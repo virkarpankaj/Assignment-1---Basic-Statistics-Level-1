{
 "cells": [
  {
   "cell_type": "code",
   "execution_count": 1,
   "id": "b2de3635",
   "metadata": {},
   "outputs": [],
   "source": [
    "import pandas as pd\n",
    "import numpy as np\n",
    "import scipy\n",
    "from scipy import stats\n",
    "import matplotlib.pyplot as plt\n",
    "import seaborn as sns"
   ]
  },
  {
   "cell_type": "code",
   "execution_count": 2,
   "id": "83778b98",
   "metadata": {},
   "outputs": [
    {
     "data": {
      "text/plain": [
       "145.33333333333334"
      ]
     },
     "execution_count": 2,
     "metadata": {},
     "output_type": "execute_result"
    }
   ],
   "source": [
    "#Q8 Solution\n",
    "wt=[108, 110, 123, 134, 135, 145, 167, 187, 199]\n",
    "np.mean(wt)"
   ]
  },
  {
   "cell_type": "code",
   "execution_count": 3,
   "id": "3982df41",
   "metadata": {},
   "outputs": [],
   "source": [
    "#Q9_a Solution\n",
    "\n",
    "df=pd.read_csv('Q9_a.csv')"
   ]
  },
  {
   "cell_type": "code",
   "execution_count": 4,
   "id": "fc27c06c",
   "metadata": {},
   "outputs": [
    {
     "data": {
      "text/plain": [
       "Index    0.000000\n",
       "speed   -0.117510\n",
       "dist     0.806895\n",
       "dtype: float64"
      ]
     },
     "execution_count": 4,
     "metadata": {},
     "output_type": "execute_result"
    }
   ],
   "source": [
    "df.skew()"
   ]
  },
  {
   "cell_type": "code",
   "execution_count": 5,
   "id": "757d785c",
   "metadata": {},
   "outputs": [
    {
     "data": {
      "text/plain": [
       "Index   -1.200000\n",
       "speed   -0.508994\n",
       "dist     0.405053\n",
       "dtype: float64"
      ]
     },
     "execution_count": 5,
     "metadata": {},
     "output_type": "execute_result"
    }
   ],
   "source": [
    "df.kurt()"
   ]
  },
  {
   "cell_type": "code",
   "execution_count": 6,
   "id": "5c5c6b83",
   "metadata": {},
   "outputs": [],
   "source": [
    "#Q9_b Solution\n",
    "b=pd.read_csv('Q9_b.csv')"
   ]
  },
  {
   "cell_type": "code",
   "execution_count": 7,
   "id": "f0843dc0",
   "metadata": {},
   "outputs": [
    {
     "data": {
      "text/plain": [
       "Unnamed: 0    0.000000\n",
       "SP            1.611450\n",
       "WT           -0.614753\n",
       "dtype: float64"
      ]
     },
     "execution_count": 7,
     "metadata": {},
     "output_type": "execute_result"
    }
   ],
   "source": [
    "b.skew()"
   ]
  },
  {
   "cell_type": "code",
   "execution_count": 8,
   "id": "db9cce81",
   "metadata": {},
   "outputs": [
    {
     "data": {
      "text/plain": [
       "Unnamed: 0   -1.200000\n",
       "SP            2.977329\n",
       "WT            0.950291\n",
       "dtype: float64"
      ]
     },
     "execution_count": 8,
     "metadata": {},
     "output_type": "execute_result"
    }
   ],
   "source": [
    "b.kurt()"
   ]
  },
  {
   "cell_type": "code",
   "execution_count": 9,
   "id": "bfdc11e9",
   "metadata": {},
   "outputs": [
    {
     "data": {
      "text/plain": [
       "(198.738325292158, 201.261674707842)"
      ]
     },
     "execution_count": 9,
     "metadata": {},
     "output_type": "execute_result"
    }
   ],
   "source": [
    "#Q11 Solution\n",
    "#the average weight of an adult male in Mexico with 94% CI\n",
    "stats.norm.interval(0.94,loc=200,scale=(30/pow(2000,0.5)))"
   ]
  },
  {
   "cell_type": "code",
   "execution_count": 10,
   "id": "a41b2805",
   "metadata": {},
   "outputs": [
    {
     "data": {
      "text/plain": [
       "(198.43943840429978, 201.56056159570022)"
      ]
     },
     "execution_count": 10,
     "metadata": {},
     "output_type": "execute_result"
    }
   ],
   "source": [
    "#the average weight of an adult male in Mexico with 98% CI\n",
    "stats.norm.interval(0.98,loc=200,scale=(30/pow(2000,0.5)))"
   ]
  },
  {
   "cell_type": "code",
   "execution_count": 11,
   "id": "7915b534",
   "metadata": {},
   "outputs": [
    {
     "data": {
      "text/plain": [
       "(198.62230334813333, 201.37769665186667)"
      ]
     },
     "execution_count": 11,
     "metadata": {},
     "output_type": "execute_result"
    }
   ],
   "source": [
    "#the average weight of an adult male in Mexico with 96% CI\n",
    "stats.norm.interval(0.96,loc=200,scale=(30/pow(2000,0.5)))"
   ]
  },
  {
   "cell_type": "code",
   "execution_count": 13,
   "id": "5c395e36",
   "metadata": {},
   "outputs": [],
   "source": [
    "#Q12 Solution\n",
    "x=[34,36,36,38,38,39,39,40,40,41,41,41,41,42,42,45,49,56]\n",
    "\n",
    "mean_x=np.mean(x)\n",
    "median_x=np.median(x)\n",
    "variance_x=np.var(x)\n",
    "std_x=np.std(x)"
   ]
  },
  {
   "cell_type": "code",
   "execution_count": 14,
   "id": "23513bbb",
   "metadata": {},
   "outputs": [
    {
     "data": {
      "text/plain": [
       "41.0"
      ]
     },
     "execution_count": 14,
     "metadata": {},
     "output_type": "execute_result"
    }
   ],
   "source": [
    "mean_x"
   ]
  },
  {
   "cell_type": "code",
   "execution_count": 15,
   "id": "eb9aef44",
   "metadata": {},
   "outputs": [
    {
     "data": {
      "text/plain": [
       "40.5"
      ]
     },
     "execution_count": 15,
     "metadata": {},
     "output_type": "execute_result"
    }
   ],
   "source": [
    "median_x"
   ]
  },
  {
   "cell_type": "code",
   "execution_count": 16,
   "id": "e5f65558",
   "metadata": {},
   "outputs": [
    {
     "data": {
      "text/plain": [
       "24.11111111111111"
      ]
     },
     "execution_count": 16,
     "metadata": {},
     "output_type": "execute_result"
    }
   ],
   "source": [
    "variance_x"
   ]
  },
  {
   "cell_type": "code",
   "execution_count": 17,
   "id": "225e06c9",
   "metadata": {},
   "outputs": [
    {
     "data": {
      "text/plain": [
       "4.910306620885412"
      ]
     },
     "execution_count": 17,
     "metadata": {},
     "output_type": "execute_result"
    }
   ],
   "source": [
    "std_x"
   ]
  },
  {
   "cell_type": "code",
   "execution_count": 18,
   "id": "425c662b",
   "metadata": {},
   "outputs": [
    {
     "name": "stderr",
     "output_type": "stream",
     "text": [
      "C:\\Users\\virka\\anaconda3\\lib\\site-packages\\seaborn\\distributions.py:2557: FutureWarning: `distplot` is a deprecated function and will be removed in a future version. Please adapt your code to use either `displot` (a figure-level function with similar flexibility) or `histplot` (an axes-level function for histograms).\n",
      "  warnings.warn(msg, FutureWarning)\n"
     ]
    },
    {
     "data": {
      "text/plain": [
       "<AxesSubplot:ylabel='Density'>"
      ]
     },
     "execution_count": 18,
     "metadata": {},
     "output_type": "execute_result"
    },
    {
     "data": {
      "image/png": "[encoded data removed]",
      "text/plain": [
       "<Figure size 432x288 with 1 Axes>"
      ]
     },
     "metadata": {
      "needs_background": "light"
     },
     "output_type": "display_data"
    }
   ],
   "source": [
    "sns.distplot(x)"
   ]
  },
  {
   "cell_type": "code",
   "execution_count": 19,
   "id": "044ac642",
   "metadata": {},
   "outputs": [],
   "source": [
    "#Q20 Solution\n",
    "cars_df=pd.read_csv('Cars.csv')"
   ]
  },
  {
   "cell_type": "code",
   "execution_count": 20,
   "id": "4352659a",
   "metadata": {},
   "outputs": [
    {
     "data": {
      "text/plain": [
       "0.3475939251582705"
      ]
     },
     "execution_count": 20,
     "metadata": {},
     "output_type": "execute_result"
    }
   ],
   "source": [
    "#P(MPG>38) Area to the right\n",
    "\n",
    "1-stats.norm.cdf(38,loc=cars_df['MPG'].mean(),scale=cars_df['MPG'].std())"
   ]
  },
  {
   "cell_type": "code",
   "execution_count": 21,
   "id": "37a73b2f",
   "metadata": {},
   "outputs": [
    {
     "data": {
      "text/plain": [
       "0.7293498762151616"
      ]
     },
     "execution_count": 21,
     "metadata": {},
     "output_type": "execute_result"
    }
   ],
   "source": [
    "#P(MPG<40) Area to the left\n",
    "\n",
    "stats.norm.cdf(40,loc=cars_df['MPG'].mean(),scale=cars_df['MPG'].std())"
   ]
  },
  {
   "cell_type": "code",
   "execution_count": 23,
   "id": "b86eaa33",
   "metadata": {},
   "outputs": [
    {
     "data": {
      "text/plain": [
       "0.8988689169682046"
      ]
     },
     "execution_count": 23,
     "metadata": {},
     "output_type": "execute_result"
    }
   ],
   "source": [
    "#P(20<MPG<50) = P(MPG<50)-P(MPG>20)\n",
    "\n",
    "stats.norm.cdf(50,loc=cars_df['MPG'].mean(),scale=cars_df['MPG'].std())-stats.norm.cdf(20,loc=cars_df['MPG'].mean(),scale=cars_df['MPG'].std())"
   ]
  },
  {
   "cell_type": "code",
   "execution_count": 24,
   "id": "88b123b2",
   "metadata": {},
   "outputs": [
    {
     "name": "stderr",
     "output_type": "stream",
     "text": [
      "C:\\Users\\virka\\anaconda3\\lib\\site-packages\\seaborn\\distributions.py:2557: FutureWarning: `distplot` is a deprecated function and will be removed in a future version. Please adapt your code to use either `displot` (a figure-level function with similar flexibility) or `histplot` (an axes-level function for histograms).\n",
      "  warnings.warn(msg, FutureWarning)\n"
     ]
    },
    {
     "data": {
      "text/plain": [
       "<matplotlib.legend.Legend at 0x21132c019d0>"
      ]
     },
     "execution_count": 24,
     "metadata": {},
     "output_type": "execute_result"
    },
    {
     "data": {
      "image/png": "[encoded data removed]",
      "text/plain": [
       "<Figure size 432x288 with 1 Axes>"
      ]
     },
     "metadata": {
      "needs_background": "light"
     },
     "output_type": "display_data"
    }
   ],
   "source": [
    "#Q21_a = Check whether the MPG of Cars follows Normal Distribution \n",
    "\n",
    "sns.distplot(cars_df['MPG'],label='Cars')\n",
    "plt.legend()"
   ]
  },
  {
   "cell_type": "code",
   "execution_count": 25,
   "id": "d66e99b3",
   "metadata": {},
   "outputs": [
    {
     "data": {
      "text/plain": [
       "34.422075728024666"
      ]
     },
     "execution_count": 25,
     "metadata": {},
     "output_type": "execute_result"
    }
   ],
   "source": [
    "cars_df['MPG'].mean()"
   ]
  },
  {
   "cell_type": "code",
   "execution_count": 27,
   "id": "5fb17079",
   "metadata": {},
   "outputs": [
    {
     "data": {
      "text/plain": [
       "35.15272697"
      ]
     },
     "execution_count": 27,
     "metadata": {},
     "output_type": "execute_result"
    }
   ],
   "source": [
    "cars_df['MPG'].median()"
   ]
  },
  {
   "cell_type": "code",
   "execution_count": 28,
   "id": "411c965b",
   "metadata": {},
   "outputs": [
    {
     "data": {
      "text/plain": [
       "{'whiskers': [<matplotlib.lines.Line2D at 0x211304f9370>,\n",
       "  <matplotlib.lines.Line2D at 0x21130eec640>],\n",
       " 'caps': [<matplotlib.lines.Line2D at 0x21130eec910>,\n",
       "  <matplotlib.lines.Line2D at 0x21130eecb80>],\n",
       " 'boxes': [<matplotlib.lines.Line2D at 0x211304f9430>],\n",
       " 'medians': [<matplotlib.lines.Line2D at 0x21130517c40>],\n",
       " 'fliers': [<matplotlib.lines.Line2D at 0x21130517b20>],\n",
       " 'means': []}"
      ]
     },
     "execution_count": 28,
     "metadata": {},
     "output_type": "execute_result"
    },
    {
     "data": {
      "image/png": "[encoded data removed]",
      "text/plain": [
       "<Figure size 432x288 with 1 Axes>"
      ]
     },
     "metadata": {
      "needs_background": "light"
     },
     "output_type": "display_data"
    }
   ],
   "source": [
    "plt.boxplot(cars_df['MPG'])"
   ]
  },
  {
   "cell_type": "code",
   "execution_count": 29,
   "id": "5e099637",
   "metadata": {},
   "outputs": [],
   "source": [
    "#Q21_Check Whether the Adipose Tissue (AT) and Waist Circumference (Waist) from wc-at data set follows Normal Distribution \n",
    "\n",
    "wc_at_df=pd.read_csv('wc-at.csv')"
   ]
  },
  {
   "cell_type": "code",
   "execution_count": 30,
   "id": "d80393e8",
   "metadata": {},
   "outputs": [
    {
     "data": {
      "text/plain": [
       "Waist     91.901835\n",
       "AT       101.894037\n",
       "dtype: float64"
      ]
     },
     "execution_count": 30,
     "metadata": {},
     "output_type": "execute_result"
    }
   ],
   "source": [
    "wc_at_df.mean()"
   ]
  },
  {
   "cell_type": "code",
   "execution_count": 31,
   "id": "fd4eecc7",
   "metadata": {},
   "outputs": [
    {
     "data": {
      "text/plain": [
       "Waist    90.80\n",
       "AT       96.54\n",
       "dtype: float64"
      ]
     },
     "execution_count": 31,
     "metadata": {},
     "output_type": "execute_result"
    }
   ],
   "source": [
    "wc_at_df.median()"
   ]
  },
  {
   "cell_type": "code",
   "execution_count": 32,
   "id": "34f85b0b",
   "metadata": {},
   "outputs": [
    {
     "data": {
      "text/plain": [
       "Waist    0.134056\n",
       "AT       0.584869\n",
       "dtype: float64"
      ]
     },
     "execution_count": 32,
     "metadata": {},
     "output_type": "execute_result"
    }
   ],
   "source": [
    "wc_at_df.skew()"
   ]
  },
  {
   "cell_type": "code",
   "execution_count": 33,
   "id": "dc8797eb",
   "metadata": {},
   "outputs": [
    {
     "name": "stderr",
     "output_type": "stream",
     "text": [
      "C:\\Users\\virka\\anaconda3\\lib\\site-packages\\seaborn\\distributions.py:2557: FutureWarning: `distplot` is a deprecated function and will be removed in a future version. Please adapt your code to use either `displot` (a figure-level function with similar flexibility) or `histplot` (an axes-level function for histograms).\n",
      "  warnings.warn(msg, FutureWarning)\n"
     ]
    },
    {
     "data": {
      "text/plain": [
       "<AxesSubplot:xlabel='Waist', ylabel='Density'>"
      ]
     },
     "execution_count": 33,
     "metadata": {},
     "output_type": "execute_result"
    },
    {
     "data": {
      "image/png": "[encoded data removed]",
      "text/plain": [
       "<Figure size 432x288 with 1 Axes>"
      ]
     },
     "metadata": {
      "needs_background": "light"
     },
     "output_type": "display_data"
    }
   ],
   "source": [
    "sns.distplot(wc_at_df['Waist'])"
   ]
  },
  {
   "cell_type": "code",
   "execution_count": 34,
   "id": "e6d160ae",
   "metadata": {},
   "outputs": [
    {
     "name": "stderr",
     "output_type": "stream",
     "text": [
      "C:\\Users\\virka\\anaconda3\\lib\\site-packages\\seaborn\\distributions.py:2557: FutureWarning: `distplot` is a deprecated function and will be removed in a future version. Please adapt your code to use either `displot` (a figure-level function with similar flexibility) or `histplot` (an axes-level function for histograms).\n",
      "  warnings.warn(msg, FutureWarning)\n"
     ]
    },
    {
     "data": {
      "text/plain": [
       "<AxesSubplot:xlabel='AT', ylabel='Density'>"
      ]
     },
     "execution_count": 34,
     "metadata": {},
     "output_type": "execute_result"
    },
    {
     "data": {
      "image/png": "[encoded data removed]",
      "text/plain": [
       "<Figure size 432x288 with 1 Axes>"
      ]
     },
     "metadata": {
      "needs_background": "light"
     },
     "output_type": "display_data"
    }
   ],
   "source": [
    "sns.distplot(wc_at_df['AT'])"
   ]
  },
  {
   "cell_type": "code",
   "execution_count": 35,
   "id": "af81d82b",
   "metadata": {},
   "outputs": [
    {
     "name": "stderr",
     "output_type": "stream",
     "text": [
      "C:\\Users\\virka\\anaconda3\\lib\\site-packages\\seaborn\\_decorators.py:36: FutureWarning: Pass the following variable as a keyword arg: x. From version 0.12, the only valid positional argument will be `data`, and passing other arguments without an explicit keyword will result in an error or misinterpretation.\n",
      "  warnings.warn(\n"
     ]
    },
    {
     "data": {
      "text/plain": [
       "<AxesSubplot:xlabel='Waist'>"
      ]
     },
     "execution_count": 35,
     "metadata": {},
     "output_type": "execute_result"
    },
    {
     "data": {
      "image/png": "[encoded data removed]",
      "text/plain": [
       "<Figure size 432x288 with 1 Axes>"
      ]
     },
     "metadata": {
      "needs_background": "light"
     },
     "output_type": "display_data"
    }
   ],
   "source": [
    "sns.boxplot(wc_at_df['Waist'])"
   ]
  },
  {
   "cell_type": "code",
   "execution_count": 36,
   "id": "b93879c5",
   "metadata": {},
   "outputs": [
    {
     "name": "stderr",
     "output_type": "stream",
     "text": [
      "C:\\Users\\virka\\anaconda3\\lib\\site-packages\\seaborn\\_decorators.py:36: FutureWarning: Pass the following variable as a keyword arg: x. From version 0.12, the only valid positional argument will be `data`, and passing other arguments without an explicit keyword will result in an error or misinterpretation.\n",
      "  warnings.warn(\n"
     ]
    },
    {
     "data": {
      "text/plain": [
       "<AxesSubplot:xlabel='AT'>"
      ]
     },
     "execution_count": 36,
     "metadata": {},
     "output_type": "execute_result"
    },
    {
     "data": {
      "image/png": "[encoded data removed]",
      "text/plain": [
       "<Figure size 432x288 with 1 Axes>"
      ]
     },
     "metadata": {
      "needs_background": "light"
     },
     "output_type": "display_data"
    }
   ],
   "source": [
    "sns.boxplot(wc_at_df['AT'])"
   ]
  },
  {
   "cell_type": "code",
   "execution_count": null,
   "id": "e863b78a",
   "metadata": {},
   "outputs": [],
   "source": [
    "# waist is approximatly following ND and AT following is Positve Skewness"
   ]
  },
  {
   "cell_type": "code",
   "execution_count": 37,
   "id": "de5fa365",
   "metadata": {},
   "outputs": [
    {
     "data": {
      "text/plain": [
       "(-1.6448536269514729, 1.6448536269514722)"
      ]
     },
     "execution_count": 37,
     "metadata": {},
     "output_type": "execute_result"
    }
   ],
   "source": [
    "#Q22 Solution- z score for 90 \n",
    "\n",
    "stats.norm.interval(0.90,loc=0,scale=1)"
   ]
  },
  {
   "cell_type": "code",
   "execution_count": 38,
   "id": "cc831e2f",
   "metadata": {},
   "outputs": [
    {
     "data": {
      "text/plain": [
       "(-1.8807936081512509, 1.8807936081512509)"
      ]
     },
     "execution_count": 38,
     "metadata": {},
     "output_type": "execute_result"
    }
   ],
   "source": [
    "#z score for 94\n",
    "stats.norm.interval(0.94,loc=0,scale=1)"
   ]
  },
  {
   "cell_type": "code",
   "execution_count": 39,
   "id": "7b34c60b",
   "metadata": {},
   "outputs": [
    {
     "data": {
      "text/plain": [
       "(-0.8416212335729142, 0.8416212335729143)"
      ]
     },
     "execution_count": 39,
     "metadata": {},
     "output_type": "execute_result"
    }
   ],
   "source": [
    "#z score for 60\n",
    "stats.norm.interval(0.6,loc=0,scale=1)"
   ]
  },
  {
   "cell_type": "code",
   "execution_count": 40,
   "id": "57fc60d5",
   "metadata": {},
   "outputs": [
    {
     "data": {
      "text/plain": [
       "(-2.059538552753294, 2.059538552753294)"
      ]
     },
     "execution_count": 40,
     "metadata": {},
     "output_type": "execute_result"
    }
   ],
   "source": [
    "#Q23 - t scores of 95% CI\n",
    "stats.t.interval(0.95,25,loc=0,scale=1)"
   ]
  },
  {
   "cell_type": "code",
   "execution_count": 41,
   "id": "187bcf13",
   "metadata": {},
   "outputs": [
    {
     "data": {
      "text/plain": [
       "(-2.1665866344527562, 2.1665866344527562)"
      ]
     },
     "execution_count": 41,
     "metadata": {},
     "output_type": "execute_result"
    }
   ],
   "source": [
    "#Q23 - t scores of 96% CI\n",
    "stats.t.interval(0.96,25,loc=0,scale=1)"
   ]
  },
  {
   "cell_type": "code",
   "execution_count": 42,
   "id": "8191d490",
   "metadata": {},
   "outputs": [
    {
     "data": {
      "text/plain": [
       "(-2.787435813675851, 2.787435813675851)"
      ]
     },
     "execution_count": 42,
     "metadata": {},
     "output_type": "execute_result"
    }
   ],
   "source": [
    "#Q23 - t scores of 99% CI\n",
    "stats.t.interval(0.99,25,loc=0,scale=1)"
   ]
  },
  {
   "cell_type": "code",
   "execution_count": null,
   "id": "b946be77",
   "metadata": {},
   "outputs": [],
   "source": []
  },
  {
   "cell_type": "code",
   "execution_count": null,
   "id": "86b08fc0",
   "metadata": {},
   "outputs": [],
   "source": [
    "#Q24 Solution\n",
    "\n",
    "Population Mean = 270 days, Sample size = n= 18 bulbs, Sample mean = 260 days, Sample Std Deviation = 90 days"
   ]
  },
  {
   "cell_type": "code",
   "execution_count": 43,
   "id": "7772e135",
   "metadata": {},
   "outputs": [
    {
     "data": {
      "text/plain": [
       "-0.4714045207910317"
      ]
     },
     "execution_count": 43,
     "metadata": {},
     "output_type": "execute_result"
    }
   ],
   "source": [
    "t=(260-270)/(90/pow(18,0.5))\n",
    "t"
   ]
  },
  {
   "cell_type": "code",
   "execution_count": 44,
   "id": "77cafcb2",
   "metadata": {},
   "outputs": [
    {
     "data": {
      "text/plain": [
       "0.32167253567098364"
      ]
     },
     "execution_count": 44,
     "metadata": {},
     "output_type": "execute_result"
    }
   ],
   "source": [
    "stats.t.cdf(t,df=17)"
   ]
  },
  {
   "cell_type": "code",
   "execution_count": null,
   "id": "dfd7f995",
   "metadata": {},
   "outputs": [],
   "source": []
  }
 ],
 "metadata": {
  "kernelspec": {
   "display_name": "Python 3",
   "language": "python",
   "name": "python3"
  },
  "language_info": {
   "codemirror_mode": {
    "name": "ipython",
    "version": 3
   },
   "file_extension": ".py",
   "mimetype": "text/x-python",
   "name": "python",
   "nbconvert_exporter": "python",
   "pygments_lexer": "ipython3",
   "version": "3.8.8"
  }
 },
 "nbformat": 4,
 "nbformat_minor": 5
}
